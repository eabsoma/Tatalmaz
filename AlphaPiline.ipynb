{
  "cells": [
    {
      "cell_type": "code",
      "execution_count": null,
      "metadata": {
        "id": "6hW-CNC9Z0zC"
      },
      "outputs": [],
      "source": [
        "!pip install mishkal\n",
        "!pip install Unidecode\n",
        "!pip install noisereduce\n",
        "!pip install ffmpeg-python\n",
        "!pip install gtts\n",
        "!pip install jiwer\n",
        "!pip install pyspellchecker\n",
        "!pip install librosa==0.9.1\n",
        "!git clone https://github.com/ARBML/klaam\n",
        "%cd klaam"
      ]
    },
    {
      "cell_type": "code",
      "execution_count": 10,
      "metadata": {
        "id": "zU4UN4rRUD_c"
      },
      "outputs": [],
      "source": [
        "import os\n",
        "import librosa\n",
        "import numpy as np\n",
        "from klaam import SpeechRecognition\n",
        "from google.colab.patches import cv2_imshow\n",
        "import IPython.display as ipd\n",
        "from sklearn.model_selection import train_test_split\n",
        "from gtts import gTTS\n",
        "from IPython.display import Audio\n",
        "from io import BytesIO\n",
        "from sklearn.preprocessing import LabelEncoder\n",
        "from spellchecker import SpellChecker\n",
        "from keras import layers, models, utils\n",
        "from keras.applications import VGG16\n",
        "from keras.callbacks import ModelCheckpoint\n",
        "from keras.preprocessing.image import img_to_array, array_to_img\n",
        "import matplotlib.pyplot as plt\n",
        "from keras.models import load_model\n",
        "import noisereduce as nr\n",
        "\n"
      ]
    },
    {
      "cell_type": "code",
      "execution_count": null,
      "metadata": {
        "id": "UM398eW1UPuN"
      },
      "outputs": [],
      "source": [
        "# Load the trained model\n",
        "stt = SpeechRecognition()\n",
        "spell = SpellChecker(language='ar')"
      ]
    },
    {
      "cell_type": "code",
      "execution_count": 12,
      "metadata": {
        "id": "mET0ijBFdkb7"
      },
      "outputs": [],
      "source": [
        "def text_to_speech_arabic(text):\n",
        "    # Create a gTTS object with the language code for Arabic ('ar')\n",
        "    tts = gTTS(text=text, lang='ar', slow=False)\n",
        "\n",
        "    # Save the speech as an audio file\n",
        "    bytes_io = BytesIO()\n",
        "    tts.write_to_fp(bytes_io)\n",
        "\n",
        "    # Play the audio using IPython Audio\n",
        "    return Audio(bytes_io.getvalue(), autoplay=True)"
      ]
    },
    {
      "cell_type": "code",
      "execution_count": 13,
      "metadata": {
        "id": "M-hfj6WdWA2R"
      },
      "outputs": [],
      "source": [
        "def preprocess_input(file_path, n_mels=128, hop_length=512, target_size=(128, 32), noise_reduction_strength=0.02, silence_threshold=0.02):\n",
        "    # Load audio\n",
        "    y, sr = librosa.load(file_path)\n",
        "\n",
        "    # Denoise audio\n",
        "    y_denoised = nr.reduce_noise(y, sr,prop_decrease=noise_reduction_strength)\n",
        "\n",
        "    # Trim silence\n",
        "    y_trimmed, _ = librosa.effects.trim(y_denoised, top_db=silence_threshold)\n",
        "\n",
        "    # Extract and resize log mel spectrogram\n",
        "    mel_spec = librosa.feature.melspectrogram(y_trimmed, sr=sr, n_mels=n_mels, hop_length=hop_length)\n",
        "    log_mel_spec = librosa.power_to_db(mel_spec, ref=np.max)\n",
        "    log_mel_spec_resized = np.resize(log_mel_spec, target_size)\n",
        "\n",
        "    # Add batch and channel dimensions\n",
        "    log_mel_spec_resized = log_mel_spec_resized[np.newaxis, ..., np.newaxis]\n",
        "\n",
        "    return log_mel_spec_resized\n"
      ]
    },
    {
      "cell_type": "code",
      "execution_count": 14,
      "metadata": {
        "id": "fjveXyZkPebx"
      },
      "outputs": [],
      "source": [
        "def wordCorrection(char):\n",
        "  words = char.split()\n",
        "  misspelled = spell.unknown(words)\n",
        "  for word in misspelled:\n",
        "      correction = spell.correction(word)\n",
        "  return correction"
      ]
    },
    {
      "cell_type": "markdown",
      "metadata": {
        "id": "z5FWhGhfpRMF"
      },
      "source": [
        "# Predict Pronunciation (The Alphabet Classification)\n"
      ]
    },
    {
      "cell_type": "code",
      "execution_count": null,
      "metadata": {
        "id": "1gdXTL0Rr1Og"
      },
      "outputs": [],
      "source": [
        "aleph_file_path='/content/Aleph_recorded_speech.wav'\n",
        "ba_file_path='/content/ba_recorded_speech.wav'\n",
        "tha_file_path='/content/mehad_tha_recorded_speech.wav'\n",
        "zua_file_path='/content/1_6_Taj_Zua_T (1).wav'"
      ]
    },
    {
      "cell_type": "code",
      "execution_count": null,
      "metadata": {
        "id": "OLj6wFw4RFYi"
      },
      "outputs": [],
      "source": [
        "# Load your trained Keras model\n",
        "loaded_model = load_model('/content/alphabetModel2.h5')"
      ]
    },
    {
      "cell_type": "code",
      "execution_count": null,
      "metadata": {
        "id": "sicw-Nn3XAJX"
      },
      "outputs": [],
      "source": [
        "preprocessed_input_a = preprocess_input(aleph_file_path)\n",
        "prediction_a = loaded_model.predict(preprocessed_input_a)\n",
        "aleph_predicted = np.argmax(prediction_a)"
      ]
    },
    {
      "cell_type": "markdown",
      "metadata": {
        "id": "gFXtV--JpNz7"
      },
      "source": [
        "# Test Pronunciation\n"
      ]
    },
    {
      "cell_type": "code",
      "execution_count": null,
      "metadata": {
        "id": "EUUo3pY6k0Ux"
      },
      "outputs": [],
      "source": [
        "def AlphabetCheker(audio_path, correct_char, example):\n",
        "  letterText= stt.transcribe(audio_path)\n",
        "  correctSpell = spell.correction(letterText)\n",
        "  if correctSpell[0] == correct_char:\n",
        "    return print(\"أحسنت!!! بارك الله فيك\")\n",
        "  else:\n",
        "    return text_to_speech_arabic(example)"
      ]
    },
    {
      "cell_type": "code",
      "execution_count": null,
      "metadata": {
        "colab": {
          "base_uri": "https://localhost:8080/",
          "height": 35
        },
        "id": "z_nuSFGurlQm",
        "outputId": "cd2367d2-21d0-42a5-da60-2de923ab7181"
      },
      "outputs": [
        {
          "data": {
            "application/vnd.google.colaboratory.intrinsic+json": {
              "type": "string"
            },
            "text/plain": [
              "'قالف'"
            ]
          },
          "execution_count": 20,
          "metadata": {},
          "output_type": "execute_result"
        }
      ],
      "source": [
        "stt.transcribe(aleph_file_path)"
      ]
    },
    {
      "cell_type": "code",
      "execution_count": null,
      "metadata": {
        "colab": {
          "base_uri": "https://localhost:8080/",
          "height": 75
        },
        "id": "OUV8DOJUk3o2",
        "outputId": "df387594-d691-40e6-9c2c-b1b9228ff9f7"
      },
      "outputs": [
        {
          "data": {
            "text/html": [
              "\n",
              "                <audio  controls=\"controls\" autoplay=\"autoplay\">\n",
              "                    <source src=\"data:audio/wav;base64,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\" type=\"audio/wav\" />\n",
              "                    Your browser does not support the audio element.\n",
              "                </audio>\n",
              "              "
            ],
            "text/plain": [
              "<IPython.lib.display.Audio object>"
            ]
          },
          "execution_count": 17,
          "metadata": {},
          "output_type": "execute_result"
        }
      ],
      "source": [
        "aleph_example = \"حاول مرة أخرى, أ مِثْل أُمّـي\"\n",
        "aleph_char='أ'\n",
        "AlphabetCheker(aleph_file_path, aleph_char,aleph_example)"
      ]
    },
    {
      "cell_type": "code",
      "execution_count": null,
      "metadata": {
        "colab": {
          "base_uri": "https://localhost:8080/"
        },
        "id": "5NgCIh4Do81v",
        "outputId": "0c8474a1-6735-48ac-84bb-eaeb83171a13"
      },
      "outputs": [
        {
          "name": "stdout",
          "output_type": "stream",
          "text": [
            "أحسنت!!! بارك الله فيك\n"
          ]
        }
      ],
      "source": [
        "ba_example=\"حاول مرة أخرى, ب مِثْل بلادي\"\n",
        "ba_char= 'ب'\n",
        "AlphabetCheker(ba_file_path, ba_char, ba_example)"
      ]
    },
    {
      "cell_type": "code",
      "execution_count": null,
      "metadata": {
        "colab": {
          "base_uri": "https://localhost:8080/",
          "height": 75
        },
        "id": "C8ekJtQrnmbc",
        "outputId": "c9561a7f-b4ba-4c96-f132-71e4e73e7470"
      },
      "outputs": [
        {
          "data": {
            "text/html": [
              "\n",
              "                <audio  controls=\"controls\" autoplay=\"autoplay\">\n",
              "                    <source src=\"data:audio/wav;base64,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\" type=\"audio/wav\" />\n",
              "                    Your browser does not support the audio element.\n",
              "                </audio>\n",
              "              "
            ],
            "text/plain": [
              "<IPython.lib.display.Audio object>"
            ]
          },
          "execution_count": 21,
          "metadata": {},
          "output_type": "execute_result"
        }
      ],
      "source": [
        "tha_example = \"حاول مرة أخرى, ث مِثْل ثعلب\"\n",
        "tha_char= 'ث'\n",
        "AlphabetCheker(tha_file_path, tha_char,tha_example)"
      ]
    },
    {
      "cell_type": "code",
      "execution_count": null,
      "metadata": {
        "colab": {
          "base_uri": "https://localhost:8080/",
          "height": 75
        },
        "id": "ltYEFqodMHjA",
        "outputId": "b22f070d-a5ca-4d70-d4bc-c294913a2adf"
      },
      "outputs": [
        {
          "data": {
            "text/html": [
              "\n",
              "                <audio  controls=\"controls\" autoplay=\"autoplay\">\n",
              "                    <source src=\"data:audio/wav;base64,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\" type=\"audio/wav\" />\n",
              "                    Your browser does not support the audio element.\n",
              "                </audio>\n",
              "              "
            ],
            "text/plain": [
              "<IPython.lib.display.Audio object>"
            ]
          },
          "execution_count": 24,
          "metadata": {},
          "output_type": "execute_result"
        }
      ],
      "source": [
        "zua_example= \"حاول مرة أخرى, ظاء مِثْل ظِلال\"\n",
        "zua_char= 'ظ'\n",
        "AlphabetCheker(zua_file_path, zua_char,zua_example)"
      ]
    },
    {
      "cell_type": "code",
      "execution_count": null,
      "metadata": {
        "id": "qn_372HRNqai"
      },
      "outputs": [],
      "source": [
        "ta_example= \"حاول مرة أخرى, تاء مِثْل تمر\"\n",
        "ta_char= 'ت'\n"
      ]
    },
    {
      "cell_type": "code",
      "execution_count": null,
      "metadata": {
        "id": "X5DXILpWOskQ"
      },
      "outputs": [],
      "source": [
        "jeem_example= \"حاول مرة أخرى, جيم مِثْل جمل\"\n",
        "jeem_char= 'ج'"
      ]
    },
    {
      "cell_type": "code",
      "execution_count": null,
      "metadata": {
        "id": "6F7c1El732xy"
      },
      "outputs": [],
      "source": [
        "hha_example= \"حاول مرة أخرى, حاء مِثْل حفرة\"\n",
        "hha_char= 'ح'"
      ]
    },
    {
      "cell_type": "code",
      "execution_count": null,
      "metadata": {
        "id": "Yn7ZXE1T4Wde"
      },
      "outputs": [],
      "source": [
        "kha_example= \"حاول مرة أخرى, خاء مِثْل خيل\"\n",
        "kha_char= 'خ'"
      ]
    },
    {
      "cell_type": "code",
      "execution_count": null,
      "metadata": {
        "id": "tp7-SOG55do-"
      },
      "outputs": [],
      "source": [
        "dal_example= \"حاول مرة أخرى, دال مِثْل دراسة\"\n",
        "dal_char= 'د'"
      ]
    },
    {
      "cell_type": "code",
      "execution_count": null,
      "metadata": {
        "id": "hqfsW5zw51xX"
      },
      "outputs": [],
      "source": [
        "zal_example= \"حاول مرة أخرى, ذال مِثْل ذراع\"\n",
        "zal_char= 'ذ'"
      ]
    },
    {
      "cell_type": "code",
      "execution_count": null,
      "metadata": {
        "id": "eM51qnk96D2A"
      },
      "outputs": [],
      "source": [
        "raa_example= \"حاول مرة أخرى, راء مِثْل رأي\"\n",
        "raa_char= 'ر'"
      ]
    },
    {
      "cell_type": "code",
      "execution_count": null,
      "metadata": {
        "id": "y-AQ-EJY6k_P"
      },
      "outputs": [],
      "source": [
        "zaa_example= \"حاول مرة أخرى, زاي مِثْل زعيم\"\n",
        "zaa_char= 'ز'"
      ]
    },
    {
      "cell_type": "code",
      "execution_count": null,
      "metadata": {
        "id": "p6dX5dsw602k"
      },
      "outputs": [],
      "source": [
        "seen_example= \"حاول مرة أخرى, سين مِثْل سورة\"\n",
        "seen_char= 'س'"
      ]
    },
    {
      "cell_type": "code",
      "execution_count": null,
      "metadata": {
        "id": "Ircl-Jfk7Ssk"
      },
      "outputs": [],
      "source": [
        "shen_example= \"حاول مرة أخرى, شين مِثْل شؤوني\"\n",
        "shen_char= 'ش'"
      ]
    },
    {
      "cell_type": "code",
      "execution_count": null,
      "metadata": {
        "id": "nlLT_Ggr7i-L"
      },
      "outputs": [],
      "source": [
        "sad_example= \"حاول مرة أخرى, صاد مِثْل صيد\"\n",
        "sad_char= 'ص'"
      ]
    },
    {
      "cell_type": "code",
      "execution_count": null,
      "metadata": {
        "id": "Hl7JnX0u7ymX"
      },
      "outputs": [],
      "source": [
        "dad_example= \"حاول مرة أخرى, ضاد مِثْل ضوء\"\n",
        "dad_char= 'ض'"
      ]
    },
    {
      "cell_type": "code",
      "execution_count": null,
      "metadata": {
        "id": "7BruYLpV8fBH"
      },
      "outputs": [],
      "source": [
        "tua_example= \"حاول مرة أخرى, طاء مِثْل طاب\"\n",
        "tua_char= 'ط'"
      ]
    },
    {
      "cell_type": "code",
      "execution_count": null,
      "metadata": {
        "id": "ctrUy7rj8v1f"
      },
      "outputs": [],
      "source": [
        "ain_example= \"حاول مرة أخرى, عين مِثْل عاش\"\n",
        "ain_char= 'ع'"
      ]
    },
    {
      "cell_type": "code",
      "execution_count": null,
      "metadata": {
        "id": "9FaHFk559Qd3"
      },
      "outputs": [],
      "source": [
        "gain_example= \"حاول مرة أخرى, غين مِثْل غشاء\"\n",
        "gain_char= 'غ'"
      ]
    },
    {
      "cell_type": "code",
      "execution_count": null,
      "metadata": {
        "id": "rB7V6C5g9Xej"
      },
      "outputs": [],
      "source": [
        "faa_example= \"حاول مرة أخرى, فاء مِثْل فخار\"\n",
        "faa_char= 'ف'"
      ]
    },
    {
      "cell_type": "code",
      "execution_count": null,
      "metadata": {
        "id": "UgpguS4S9xxm"
      },
      "outputs": [],
      "source": [
        "qaf_example= \"حاول مرة أخرى, قاف مِثْل قمر\"\n",
        "qaf_char= 'ق'"
      ]
    },
    {
      "cell_type": "code",
      "execution_count": null,
      "metadata": {
        "id": "7g8W9Bh796rG"
      },
      "outputs": [],
      "source": [
        "kaf_example= \"حاول مرة أخرى, كاف مِثْل كف\"\n",
        "kaf_char= 'ك'"
      ]
    },
    {
      "cell_type": "code",
      "execution_count": null,
      "metadata": {
        "id": "5OMIBwSG-Gid"
      },
      "outputs": [],
      "source": [
        "lam_example= \"حاول مرة أخرى, لام مِثْل لبن\"\n",
        "lam_char= 'ل'"
      ]
    },
    {
      "cell_type": "code",
      "execution_count": null,
      "metadata": {
        "id": "IOmz3Y9k-X9N"
      },
      "outputs": [],
      "source": [
        "mim_example= \"حاول مرة أخرى, ميم مِثْل منارة\"\n",
        "mim_char= 'م'"
      ]
    },
    {
      "cell_type": "code",
      "execution_count": null,
      "metadata": {
        "id": "e-Mwtder-r3R"
      },
      "outputs": [],
      "source": [
        "non_example= \"حاول مرة أخرى, نون مِثْل نجوم\"\n",
        "non_char= 'ن'"
      ]
    },
    {
      "cell_type": "code",
      "execution_count": null,
      "metadata": {
        "id": "uQQeyfKj-6Zn"
      },
      "outputs": [],
      "source": [
        "haa_example= \"حاول مرة أخرى, هاء مِثْل هرة\"\n",
        "haa_char= 'ه'"
      ]
    },
    {
      "cell_type": "code",
      "execution_count": null,
      "metadata": {
        "id": "g-K-e7Rs_IB_"
      },
      "outputs": [],
      "source": [
        "wow_example= \"حاول مرة أخرى, واو مِثْل وسادة\"\n",
        "wow_char= 'و'"
      ]
    },
    {
      "cell_type": "code",
      "execution_count": null,
      "metadata": {
        "id": "9zlNFz7K_bHJ"
      },
      "outputs": [],
      "source": [
        "yaa_example= \"حاول مرة أخرى, ياء مِثْل يقرأ\"\n",
        "yaa_char= 'ي'"
      ]
    }
  ],
  "metadata": {
    "colab": {
      "machine_shape": "hm",
      "provenance": []
    },
    "kernelspec": {
      "display_name": "Python 3",
      "name": "python3"
    },
    "language_info": {
      "name": "python"
    }
  },
  "nbformat": 4,
  "nbformat_minor": 0
}